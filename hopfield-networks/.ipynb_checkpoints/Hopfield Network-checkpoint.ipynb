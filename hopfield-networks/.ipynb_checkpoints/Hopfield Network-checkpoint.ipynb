{
 "cells": [
  {
   "cell_type": "code",
   "execution_count": 5,
   "metadata": {},
   "outputs": [],
   "source": [
    "import matplotlib\n",
    "matplotlib.use('Agg')\n",
    "import numpy as np\n",
    "import glob\n",
    "import matplotlib.pyplot as plt\n",
    "from PIL import Image, ImageOps\n",
    "%matplotlib inline"
   ]
  },
  {
   "cell_type": "code",
   "execution_count": 21,
   "metadata": {},
   "outputs": [],
   "source": [
    "def load_image(fname):\n",
    "    img = Image.open(fname).resize((32, 32))\n",
    "    img_gray = img.convert('L')\n",
    "    img_eq = ImageOps.autocontrast(img_gray)\n",
    "    img_eq = np.array(img_eq.getdata()).reshape((img_eq.size[1], -1))\n",
    "    return img_eq\n",
    "\n",
    "\n",
    "def binarize_image(img_eq):\n",
    "    img_bin = np.copy(img_eq)\n",
    "    img_bin[img_bin < 128] = -1\n",
    "    img_bin[img_bin >= 128] = 1\n",
    "    return img_bin\n",
    "\n",
    "\n",
    "def add_corruption(img):\n",
    "    img = img.reshape((32, 32))\n",
    "    t = np.random.choice(3)\n",
    "    if t == 0:\n",
    "        i = np.random.randint(32)\n",
    "        img[i:(i + 8)] = -1\n",
    "    elif t == 1:\n",
    "        i = np.random.randint(32)\n",
    "        img[:, i:(i + 8)] = -1\n",
    "    else:\n",
    "        mask = np.sum([np.diag(-np.ones(32 - np.abs(i)), i)\n",
    "                       for i in np.arange(-4, 5)], 0).astype(np.int)\n",
    "        img[mask == -1] = -1\n",
    "    return img.ravel()\n",
    "\n",
    "\n",
    "def learn_hebbian(imgs):\n",
    "    img_size = np.prod(imgs[0].shape)\n",
    "    ######################################################################\n",
    "    ######################################################################\n",
    "    weights = np.zeros((img_size, img_size))\n",
    "    bias = np.zeros(img_size)\n",
    "    # Complete this function\n",
    "    # You are allowed to modify anything between these lines\n",
    "    # Helper functions are allowed\n",
    "    #######################################################################\n",
    "    #######################################################################\n",
    "    return weights, bias\n",
    "\n",
    "\n",
    "def learn_maxpl(imgs):\n",
    "    img_size = np.prod(imgs[0].shape)\n",
    "    ######################################################################\n",
    "    ######################################################################\n",
    "    weights = np.zeros((img_size, img_size))\n",
    "    bias = np.zeros(img_size)\n",
    "    # Complete this function\n",
    "    # You are allowed to modify anything between these lines\n",
    "    # Helper functions are allowed\n",
    "    #######################################################################\n",
    "    #######################################################################\n",
    "    return weights, bias\n",
    "\n",
    "\n",
    "def plot_results(imgs, cimgs, rimgs, fname='result.png'):\n",
    "    '''\n",
    "    This helper function can be used to visualize results.\n",
    "    '''\n",
    "    img_dim = 32\n",
    "    #assert imgs.shape[0] == cimgs.shape[0] == rimgs.shape[0]\n",
    "    n_imgs = imgs.shape[0]\n",
    "    fig, axn = plt.subplots(n_imgs, 3, figsize=[8, 8])\n",
    "    for j in range(n_imgs):\n",
    "        axn[j][0].axis('off')\n",
    "        axn[j][0].imshow(imgs[j].reshape(img_dim, img_dim), cmap='Greys_r')\n",
    "    axn[0, 0].set_title('True')\n",
    "    for j in range(n_imgs):\n",
    "        axn[j][1].axis('off')\n",
    "        axn[j][1].imshow(cimgs[j].reshape(img_dim, img_dim), cmap='Greys_r')\n",
    "    axn[0, 1].set_title('Corrupted')\n",
    "    for j in range(n_imgs):\n",
    "        axn[j][2].axis('off')\n",
    "        axn[j][2].imshow(rimgs[j].reshape((img_dim, img_dim)), cmap='Greys_r')\n",
    "    axn[0, 2].set_title('Recovered')\n",
    "    fig.tight_layout()\n",
    "    plt.savefig(fname)\n",
    "\n",
    "\n",
    "def recover(cimgs, W, b):\n",
    "    img_size = np.prod(cimgs[0].shape)\n",
    "    ######################################################################\n",
    "    ######################################################################\n",
    "    rimgs = np.array([])\n",
    "    # Complete this function\n",
    "    # You are allowed to modify anything between these lines\n",
    "    # Helper functions are allowed\n",
    "    #######################################################################\n",
    "    #######################################################################\n",
    "    return rimgs\n"
   ]
  },
  {
   "cell_type": "code",
   "execution_count": 34,
   "metadata": {},
   "outputs": [
    {
     "name": "stdout",
     "output_type": "stream",
     "text": [
      "[-1 -1 -1 -1 -1 -1 -1 -1 -1 -1 -1 -1 -1 -1 -1 -1 -1 -1 -1 -1 -1 -1 -1 -1\n",
      " -1 -1 -1 -1 -1 -1 -1 -1]\n",
      "[-1 -1 -1 -1 -1 -1 -1 -1 -1 -1 -1 -1 -1 -1 -1 -1 -1 -1 -1 -1 -1 -1 -1 -1\n",
      " -1 -1 -1 -1 -1 -1 -1 -1]\n",
      "[-1 -1 -1 -1 -1 -1 -1 -1 -1 -1 -1 -1 -1 -1 -1 -1 -1 -1 -1 -1 -1 -1 -1 -1\n",
      " -1 -1 -1 -1 -1 -1 -1 -1]\n",
      "[-1 -1 -1 -1 -1 -1 -1  1  1  1 -1 -1 -1 -1 -1 -1 -1 -1 -1  1  1  1  1 -1\n",
      " -1 -1 -1 -1 -1 -1 -1 -1]\n",
      "[-1 -1 -1 -1 -1 -1 -1  1  1  1  1 -1 -1 -1 -1 -1 -1 -1  1  1  1  1  1 -1\n",
      " -1 -1 -1 -1 -1 -1 -1 -1]\n",
      "[-1 -1 -1 -1 -1 -1 -1  1  1  1  1  1  1 -1 -1 -1 -1  1  1  1  1  1  1  1\n",
      " -1 -1 -1 -1 -1 -1 -1 -1]\n",
      "[-1 -1 -1 -1 -1 -1  1  1  1  1  1  1  1  1 -1 -1 -1  1  1  1  1  1  1  1\n",
      " -1 -1 -1 -1 -1 -1 -1 -1]\n",
      "[-1 -1 -1 -1 -1 -1  1  1  1  1  1  1  1  1 -1 -1  1  1  1  1  1  1  1  1\n",
      " -1 -1 -1 -1 -1 -1 -1 -1]\n",
      "[-1 -1 -1 -1 -1 -1  1  1  1  1  1  1  1  1  1  1  1  1  1  1  1  1  1  1\n",
      "  1 -1 -1 -1 -1 -1 -1 -1]\n",
      "[-1 -1 -1 -1 -1 -1  1  1  1  1  1  1  1  1  1  1  1  1  1  1  1  1  1  1\n",
      "  1 -1 -1 -1 -1 -1 -1 -1]\n",
      "[-1 -1 -1 -1 -1  1  1  1  1  1  1  1  1  1  1  1  1  1  1  1  1  1  1  1\n",
      "  1  1 -1 -1 -1 -1 -1 -1]\n",
      "[-1 -1 -1 -1 -1  1  1  1  1  1  1  1  1  1  1  1  1  1  1  1  1  1  1  1\n",
      "  1  1  1 -1 -1 -1 -1 -1]\n",
      "[-1 -1 -1 -1  1  1  1  1  1  1  1  1  1  1  1  1  1  1  1  1  1  1  1  1\n",
      "  1  1  1 -1 -1 -1 -1 -1]\n",
      "[-1 -1 -1 -1  1  1  1  1  1  1  1  1  1  1  1  1  1  1  1  1  1  1  1  1\n",
      "  1  1  1  1 -1 -1 -1 -1]\n",
      "[-1 -1 -1  1  1  1  1  1  1  1  1  1  1  1  1  1  1  1  1  1  1  1  1  1\n",
      "  1  1  1  1 -1 -1 -1 -1]\n",
      "[-1 -1 -1  1  1  1  1  1  1 -1 -1  1  1  1  1  1  1  1  1  1 -1 -1  1  1\n",
      "  1  1  1  1  1 -1 -1 -1]\n",
      "[-1 -1 -1  1  1  1  1  1 -1 -1 -1  1  1  1  1  1  1  1  1  1 -1 -1  1  1\n",
      "  1  1  1  1  1 -1 -1 -1]\n",
      "[-1 -1  1  1  1  1  1  1  1  1 -1  1  1  1  1  1  1  1  1  1 -1 -1  1  1\n",
      "  1  1  1  1  1 -1 -1 -1]\n",
      "[-1 -1  1  1  1  1  1  1 -1 -1 -1  1  1  1  1  1  1  1  1  1 -1 -1  1  1\n",
      "  1  1  1  1  1 -1 -1 -1]\n",
      "[-1 -1  1  1  1  1  1  1 -1 -1 -1  1  1  1  1  1  1  1  1  1 -1 -1  1  1\n",
      "  1  1  1  1  1 -1 -1 -1]\n",
      "[-1 -1  1  1  1  1  1  1 -1 -1 -1  1  1  1  1  1  1  1  1  1 -1 -1  1  1\n",
      "  1  1  1  1  1 -1 -1 -1]\n",
      "[-1 -1 -1  1  1  1  1  1  1 -1 -1  1  1  1  1  1  1  1  1  1 -1 -1  1  1\n",
      "  1  1  1  1  1 -1 -1 -1]\n",
      "[-1 -1 -1  1  1  1  1  1  1  1  1  1  1  1  1  1  1  1  1  1  1  1  1  1\n",
      "  1  1  1  1 -1 -1 -1 -1]\n",
      "[-1 -1 -1  1  1  1  1  1  1  1  1  1  1  1  1  1  1  1  1  1  1  1  1  1\n",
      "  1  1  1  1 -1 -1 -1 -1]\n",
      "[-1 -1 -1 -1  1  1  1  1  1  1  1  1  1  1  1  1  1  1  1  1  1  1  1  1\n",
      "  1  1  1 -1 -1 -1 -1 -1]\n",
      "[-1 -1 -1 -1 -1  1  1  1  1  1  1  1  1  1  1  1  1  1  1  1  1  1  1  1\n",
      "  1  1 -1 -1 -1 -1 -1 -1]\n",
      "[-1 -1 -1 -1 -1 -1 -1  1  1  1  1  1  1  1  1  1  1  1  1  1  1  1  1  1\n",
      " -1 -1 -1 -1 -1 -1 -1 -1]\n",
      "[-1 -1 -1 -1 -1 -1 -1 -1 -1  1  1  1  1  1  1  1  1  1  1  1  1  1 -1 -1\n",
      " -1 -1 -1 -1 -1 -1 -1 -1]\n",
      "[-1 -1 -1 -1 -1 -1 -1 -1 -1 -1 -1  1  1  1  1  1  1  1  1  1  1  1 -1 -1\n",
      " -1 -1 -1 -1 -1 -1 -1 -1]\n",
      "[-1 -1 -1 -1 -1 -1 -1 -1 -1 -1 -1  1  1  1  1  1  1  1  1  1  1  1  1 -1\n",
      " -1 -1 -1 -1 -1 -1 -1 -1]\n",
      "[-1 -1 -1 -1 -1 -1 -1 -1 -1 -1  1  1  1  1  1  1  1  1  1  1  1  1  1 -1\n",
      " -1 -1 -1 -1 -1 -1 -1 -1]\n",
      "[-1 -1 -1 -1 -1 -1 -1 -1 -1 -1  1  1  1  1  1  1  1  1  1  1  1  1  1  1\n",
      " -1 -1 -1 -1 -1 -1 -1 -1]\n"
     ]
    }
   ],
   "source": [
    "# Load Images and Binarize\n",
    "ifiles = sorted(glob.glob('images/*'))\n",
    "timgs = [load_image(ifile) for ifile in ifiles]\n",
    "imgs = np.asarray([binarize_image(img) for img in timgs])"
   ]
  },
  {
   "cell_type": "code",
   "execution_count": 23,
   "metadata": {},
   "outputs": [],
   "source": [
    "# Add corruption\n",
    "cimgs = []\n",
    "for i, img in enumerate(imgs):\n",
    "    cimgs.append(add_corruption(np.copy(imgs[i])))\n",
    "cimgs = np.asarray(cimgs)"
   ]
  },
  {
   "cell_type": "code",
   "execution_count": 24,
   "metadata": {},
   "outputs": [],
   "source": [
    "# Recover 1 -- Hebbian\n",
    "Wh, bh = learn_hebbian(imgs)\n",
    "rimgs_h = recover(cimgs, Wh, bh)\n",
    "np.save('hebbian.npy', rimgs_h)"
   ]
  },
  {
   "cell_type": "code",
   "execution_count": 25,
   "metadata": {},
   "outputs": [],
   "source": [
    "# Recover 2 -- Max Pseudo Likelihood\n",
    "Wmpl, bmpl = learn_maxpl(imgs)\n",
    "rimgs_mpl = recover(cimgs, Wmpl, bmpl)\n",
    "np.save('mpl.npy', rimgs_mpl)"
   ]
  },
  {
   "cell_type": "code",
   "execution_count": 26,
   "metadata": {},
   "outputs": [
    {
     "ename": "IndexError",
     "evalue": "index 0 is out of bounds for axis 0 with size 0",
     "output_type": "error",
     "traceback": [
      "\u001b[1;31m---------------------------------------------------------------------------\u001b[0m",
      "\u001b[1;31mIndexError\u001b[0m                                Traceback (most recent call last)",
      "\u001b[1;32m<ipython-input-26-e5bcba5065bc>\u001b[0m in \u001b[0;36m<module>\u001b[1;34m()\u001b[0m\n\u001b[1;32m----> 1\u001b[1;33m \u001b[0mplot_results\u001b[0m\u001b[1;33m(\u001b[0m\u001b[0mimgs\u001b[0m\u001b[1;33m,\u001b[0m \u001b[0mcimgs\u001b[0m\u001b[1;33m,\u001b[0m \u001b[0mrimgs_mpl\u001b[0m\u001b[1;33m,\u001b[0m \u001b[0mfname\u001b[0m\u001b[1;33m=\u001b[0m\u001b[1;34m'result.png'\u001b[0m\u001b[1;33m)\u001b[0m\u001b[1;33m\u001b[0m\u001b[0m\n\u001b[0m",
      "\u001b[1;32m<ipython-input-21-09222f3f0d4c>\u001b[0m in \u001b[0;36mplot_results\u001b[1;34m(imgs, cimgs, rimgs, fname)\u001b[0m\n\u001b[0;32m     76\u001b[0m     \u001b[1;32mfor\u001b[0m \u001b[0mj\u001b[0m \u001b[1;32min\u001b[0m \u001b[0mrange\u001b[0m\u001b[1;33m(\u001b[0m\u001b[0mn_imgs\u001b[0m\u001b[1;33m)\u001b[0m\u001b[1;33m:\u001b[0m\u001b[1;33m\u001b[0m\u001b[0m\n\u001b[0;32m     77\u001b[0m         \u001b[0maxn\u001b[0m\u001b[1;33m[\u001b[0m\u001b[0mj\u001b[0m\u001b[1;33m]\u001b[0m\u001b[1;33m[\u001b[0m\u001b[1;36m2\u001b[0m\u001b[1;33m]\u001b[0m\u001b[1;33m.\u001b[0m\u001b[0maxis\u001b[0m\u001b[1;33m(\u001b[0m\u001b[1;34m'off'\u001b[0m\u001b[1;33m)\u001b[0m\u001b[1;33m\u001b[0m\u001b[0m\n\u001b[1;32m---> 78\u001b[1;33m         \u001b[0maxn\u001b[0m\u001b[1;33m[\u001b[0m\u001b[0mj\u001b[0m\u001b[1;33m]\u001b[0m\u001b[1;33m[\u001b[0m\u001b[1;36m2\u001b[0m\u001b[1;33m]\u001b[0m\u001b[1;33m.\u001b[0m\u001b[0mimshow\u001b[0m\u001b[1;33m(\u001b[0m\u001b[0mrimgs\u001b[0m\u001b[1;33m[\u001b[0m\u001b[0mj\u001b[0m\u001b[1;33m]\u001b[0m\u001b[1;33m.\u001b[0m\u001b[0mreshape\u001b[0m\u001b[1;33m(\u001b[0m\u001b[1;33m(\u001b[0m\u001b[0mimg_dim\u001b[0m\u001b[1;33m,\u001b[0m \u001b[0mimg_dim\u001b[0m\u001b[1;33m)\u001b[0m\u001b[1;33m)\u001b[0m\u001b[1;33m,\u001b[0m \u001b[0mcmap\u001b[0m\u001b[1;33m=\u001b[0m\u001b[1;34m'Greys_r'\u001b[0m\u001b[1;33m)\u001b[0m\u001b[1;33m\u001b[0m\u001b[0m\n\u001b[0m\u001b[0;32m     79\u001b[0m     \u001b[0maxn\u001b[0m\u001b[1;33m[\u001b[0m\u001b[1;36m0\u001b[0m\u001b[1;33m,\u001b[0m \u001b[1;36m2\u001b[0m\u001b[1;33m]\u001b[0m\u001b[1;33m.\u001b[0m\u001b[0mset_title\u001b[0m\u001b[1;33m(\u001b[0m\u001b[1;34m'Recovered'\u001b[0m\u001b[1;33m)\u001b[0m\u001b[1;33m\u001b[0m\u001b[0m\n\u001b[0;32m     80\u001b[0m     \u001b[0mfig\u001b[0m\u001b[1;33m.\u001b[0m\u001b[0mtight_layout\u001b[0m\u001b[1;33m(\u001b[0m\u001b[1;33m)\u001b[0m\u001b[1;33m\u001b[0m\u001b[0m\n",
      "\u001b[1;31mIndexError\u001b[0m: index 0 is out of bounds for axis 0 with size 0"
     ]
    },
    {
     "data": {
      "image/png": "[encoded data removed]",
      "text/plain": [
       "<Figure size 576x576 with 12 Axes>"
      ]
     },
     "metadata": {},
     "output_type": "display_data"
    }
   ],
   "source": [
    "plot_results(imgs, cimgs, rimgs_mpl, fname='result.png')"
   ]
  },
  {
   "cell_type": "code",
   "execution_count": null,
   "metadata": {},
   "outputs": [],
   "source": []
  }
 ],
 "metadata": {
  "kernelspec": {
   "display_name": "Python 3",
   "language": "python",
   "name": "python3"
  },
  "language_info": {
   "codemirror_mode": {
    "name": "ipython",
    "version": 3
   },
   "file_extension": ".py",
   "mimetype": "text/x-python",
   "name": "python",
   "nbconvert_exporter": "python",
   "pygments_lexer": "ipython3",
   "version": "3.6.5"
  }
 },
 "nbformat": 4,
 "nbformat_minor": 2
}
